{
  "nbformat": 4,
  "nbformat_minor": 0,
  "metadata": {
    "colab": {
      "provenance": [],
      "authorship_tag": "ABX9TyMjmYkie9WhLbO9c8hKNn9R",
      "include_colab_link": true
    },
    "kernelspec": {
      "name": "python3",
      "display_name": "Python 3"
    },
    "language_info": {
      "name": "python"
    }
  },
  "cells": [
    {
      "cell_type": "markdown",
      "metadata": {
        "id": "view-in-github",
        "colab_type": "text"
      },
      "source": [
        "<a href=\"https://colab.research.google.com/github/luluatina/tugas-praktikum-strukdat-7--Struktur-Data-Tree/blob/main/Latihan_Tree_(7).ipynb\" target=\"_parent\"><img src=\"https://colab.research.google.com/assets/colab-badge.svg\" alt=\"Open In Colab\"/></a>"
      ]
    },
    {
      "cell_type": "code",
      "execution_count": null,
      "metadata": {
        "colab": {
          "base_uri": "https://localhost:8080/"
        },
        "id": "A8j1NMfYFQqT",
        "outputId": "dfa71a12-e879-49c4-8e9d-e8124137c133"
      },
      "outputs": [
        {
          "output_type": "stream",
          "name": "stdout",
          "text": [
            "Inorder Traversal:\n",
            "88\n",
            "11\n",
            "24\n",
            "34\n",
            "13\n"
          ]
        }
      ],
      "source": [
        "# Struktur Tree berdasarkan identitas saya\n",
        "\n",
        "# Definisi node binary tree\n",
        "class Node:\n",
        "    def __init__(self, data):\n",
        "        self.data = data\n",
        "        self.left = None\n",
        "        self.right = None\n",
        "\n",
        "# Fungsi inorder traversal\n",
        "def inorder_traversal(node):\n",
        "    if node is not None:\n",
        "        inorder_traversal(node.left)\n",
        "        print(node.data)\n",
        "        inorder_traversal(node.right)\n",
        "\n",
        "# Data identitas\n",
        "nama_lengkap = \"Lu'luatina Zakiyatal Fikri\"\n",
        "npm = \"2420506034\"\n",
        "tanggal_lahir = 88\n",
        "bulan_lahir = 13\n",
        "\n",
        "# Data untuk node\n",
        "jumlah_huruf = len(nama_lengkap.replace(\" \", \"\"))  # tanpa spasi\n",
        "jumlah_vokal = sum(1 for huruf in nama_lengkap.lower() if huruf in 'aiueo')\n",
        "dua_digit_npm = int(npm[-2:])\n",
        "\n",
        "# Membangun tree\n",
        "root = Node(jumlah_huruf)\n",
        "root.left = Node(jumlah_vokal)\n",
        "root.right = Node(dua_digit_npm)\n",
        "\n",
        "# Anak dari node kiri\n",
        "root.left.left = Node(tanggal_lahir)\n",
        "# Anak dari node kanan\n",
        "root.right.right = Node(bulan_lahir)\n",
        "\n",
        "# Menampilkan tree dengan inorder traversal\n",
        "print(\"Inorder Traversal:\")\n",
        "inorder_traversal(root)\n"
      ]
    },
    {
      "cell_type": "code",
      "source": [
        "# Program Binary Search Tree (BST) berdasarkan identitas saya\n",
        "\n",
        "# Definisi node BST\n",
        "class Node:\n",
        "    def __init__(self, key):\n",
        "        self.key = key\n",
        "        self.left = None\n",
        "        self.right = None\n",
        "\n",
        "# Fungsi untuk menyisipkan node ke BST\n",
        "def insert(root, key):\n",
        "    if root is None:\n",
        "        return Node(key)\n",
        "    if key < root.key:\n",
        "        root.left = insert(root.left, key)\n",
        "    else:\n",
        "        root.right = insert(root.right, key)\n",
        "    return root\n",
        "\n",
        "# Traversal\n",
        "def inorder(node):\n",
        "    return inorder(node.left) + [node.key] + inorder(node.right) if node else []\n",
        "\n",
        "def preorder(node):\n",
        "    return [node.key] + preorder(node.left) + preorder(node.right) if node else []\n",
        "\n",
        "def postorder(node):\n",
        "    return postorder(node.left) + postorder(node.right) + [node.key] if node else []\n",
        "\n",
        "# Fungsi pencarian\n",
        "def search(node, key):\n",
        "    if node is None:\n",
        "        return False\n",
        "    if node.key == key:\n",
        "        return True\n",
        "    elif key < node.key:\n",
        "        return search(node.left, key)\n",
        "    else:\n",
        "        return search(node.right, key)\n",
        "\n",
        "# DATA IDENTITAS\n",
        "npm = \"2420506034\"\n",
        "nama_depan = \"Lulu\"\n",
        "tanggal = 88\n",
        "bulan = 13\n",
        "\n",
        "# Mengambil 7 angka unik sesuai aturan:\n",
        "angka_bst = [\n",
        "    int(npm[-3:]),\n",
        "    tanggal,\n",
        "    bulan,\n",
        "    ord(nama_depan[0]),\n",
        "    ord(nama_depan[1]),\n",
        "    9,\n",
        "    12\n",
        "]\n",
        "\n",
        "# Membangun BST\n",
        "root = None\n",
        "for angka in angka_bst:\n",
        "    root = insert(root, angka)\n",
        "\n",
        "# Tampilkan traversal\n",
        "print(\"Inorder  :\", inorder(root))\n",
        "print(\"Preorder :\", preorder(root))\n",
        "print(\"Postorder:\", postorder(root))\n",
        "\n",
        "# Fitur Pencarian\n",
        "print(\"\\nPencarian:\")\n",
        "dua_digit_terakhir = int(npm[-2:])\n",
        "cek1 = search(root, dua_digit_terakhir)\n",
        "cek2 = search(root, 99)  # angka yang tidak ada di list\n",
        "\n",
        "print(f\"Apakah {dua_digit_terakhir} ditemukan? {'Ya' if cek1 else 'Tidak'}\")\n",
        "print(\"Apakah 99 ditemukan? {}\".format(\"Ya\" if cek2 else \"Tidak\"))\n"
      ],
      "metadata": {
        "colab": {
          "base_uri": "https://localhost:8080/"
        },
        "id": "arULFuAUGitE",
        "outputId": "9120e471-4219-42bd-a56c-9c441a2c49ed"
      },
      "execution_count": null,
      "outputs": [
        {
          "output_type": "stream",
          "name": "stdout",
          "text": [
            "Inorder  : [9, 12, 13, 34, 76, 88, 117]\n",
            "Preorder : [34, 13, 9, 12, 88, 76, 117]\n",
            "Postorder: [12, 9, 13, 76, 117, 88, 34]\n",
            "\n",
            "Pencarian:\n",
            "Apakah 34 ditemukan? Ya\n",
            "Apakah 99 ditemukan? Tidak\n"
          ]
        }
      ]
    }
  ]
}